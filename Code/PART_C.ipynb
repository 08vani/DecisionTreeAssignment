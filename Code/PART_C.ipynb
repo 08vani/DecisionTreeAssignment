{
  "nbformat": 4,
  "nbformat_minor": 0,
  "metadata": {
    "colab": {
      "name": "PART-C.ipynb",
      "provenance": [],
      "collapsed_sections": []
    },
    "kernelspec": {
      "name": "python3",
      "display_name": "Python 3"
    },
    "language_info": {
      "name": "python"
    }
  },
  "cells": [
    {
      "cell_type": "markdown",
      "metadata": {
        "id": "ySLHYwEr3JpC"
      },
      "source": [
        ""
      ]
    },
    {
      "cell_type": "code",
      "metadata": {
        "colab": {
          "base_uri": "https://localhost:8080/"
        },
        "id": "uA6QKOBHBt6N",
        "outputId": "be78b00d-7605-4be4-8800-c2bdc26d9e4c"
      },
      "source": [
        "pip install -U numpy"
      ],
      "execution_count": 3,
      "outputs": [
        {
          "output_type": "stream",
          "name": "stdout",
          "text": [
            "Requirement already satisfied: numpy in /usr/local/lib/python3.7/dist-packages (1.21.2)\n"
          ]
        }
      ]
    },
    {
      "cell_type": "code",
      "metadata": {
        "id": "6huq_SuJB-qt",
        "colab": {
          "base_uri": "https://localhost:8080/"
        },
        "outputId": "e5350146-623b-4901-a367-b7ed87ae84c7"
      },
      "source": [
        "pip install -U Cython"
      ],
      "execution_count": 4,
      "outputs": [
        {
          "output_type": "stream",
          "name": "stdout",
          "text": [
            "Requirement already satisfied: Cython in /usr/local/lib/python3.7/dist-packages (0.29.24)\n"
          ]
        }
      ]
    },
    {
      "cell_type": "code",
      "metadata": {
        "colab": {
          "base_uri": "https://localhost:8080/"
        },
        "id": "LJrXHR65C0kM",
        "outputId": "f3c6eaa1-4372-4e5d-8ceb-a89bc8771a7e"
      },
      "source": [
        "pip install -U scikit-multiflow"
      ],
      "execution_count": 5,
      "outputs": [
        {
          "output_type": "stream",
          "name": "stdout",
          "text": [
            "Collecting scikit-multiflow\n",
            "  Downloading scikit_multiflow-0.5.3-cp37-cp37m-manylinux2010_x86_64.whl (1.1 MB)\n",
            "\u001b[?25l\r\u001b[K     |▎                               | 10 kB 3.6 MB/s eta 0:00:01\r\u001b[K     |▋                               | 20 kB 5.7 MB/s eta 0:00:01\r\u001b[K     |▉                               | 30 kB 6.5 MB/s eta 0:00:01\r\u001b[K     |█▏                              | 40 kB 7.3 MB/s eta 0:00:01\r\u001b[K     |█▌                              | 51 kB 7.9 MB/s eta 0:00:01\r\u001b[K     |█▊                              | 61 kB 9.0 MB/s eta 0:00:01\r\u001b[K     |██                              | 71 kB 8.1 MB/s eta 0:00:01\r\u001b[K     |██▍                             | 81 kB 9.0 MB/s eta 0:00:01\r\u001b[K     |██▋                             | 92 kB 9.7 MB/s eta 0:00:01\r\u001b[K     |███                             | 102 kB 10.1 MB/s eta 0:00:01\r\u001b[K     |███▏                            | 112 kB 10.1 MB/s eta 0:00:01\r\u001b[K     |███▌                            | 122 kB 10.1 MB/s eta 0:00:01\r\u001b[K     |███▉                            | 133 kB 10.1 MB/s eta 0:00:01\r\u001b[K     |████                            | 143 kB 10.1 MB/s eta 0:00:01\r\u001b[K     |████▍                           | 153 kB 10.1 MB/s eta 0:00:01\r\u001b[K     |████▊                           | 163 kB 10.1 MB/s eta 0:00:01\r\u001b[K     |█████                           | 174 kB 10.1 MB/s eta 0:00:01\r\u001b[K     |█████▎                          | 184 kB 10.1 MB/s eta 0:00:01\r\u001b[K     |█████▌                          | 194 kB 10.1 MB/s eta 0:00:01\r\u001b[K     |█████▉                          | 204 kB 10.1 MB/s eta 0:00:01\r\u001b[K     |██████▏                         | 215 kB 10.1 MB/s eta 0:00:01\r\u001b[K     |██████▍                         | 225 kB 10.1 MB/s eta 0:00:01\r\u001b[K     |██████▊                         | 235 kB 10.1 MB/s eta 0:00:01\r\u001b[K     |███████                         | 245 kB 10.1 MB/s eta 0:00:01\r\u001b[K     |███████▎                        | 256 kB 10.1 MB/s eta 0:00:01\r\u001b[K     |███████▋                        | 266 kB 10.1 MB/s eta 0:00:01\r\u001b[K     |████████                        | 276 kB 10.1 MB/s eta 0:00:01\r\u001b[K     |████████▏                       | 286 kB 10.1 MB/s eta 0:00:01\r\u001b[K     |████████▌                       | 296 kB 10.1 MB/s eta 0:00:01\r\u001b[K     |████████▊                       | 307 kB 10.1 MB/s eta 0:00:01\r\u001b[K     |█████████                       | 317 kB 10.1 MB/s eta 0:00:01\r\u001b[K     |█████████▍                      | 327 kB 10.1 MB/s eta 0:00:01\r\u001b[K     |█████████▋                      | 337 kB 10.1 MB/s eta 0:00:01\r\u001b[K     |██████████                      | 348 kB 10.1 MB/s eta 0:00:01\r\u001b[K     |██████████▎                     | 358 kB 10.1 MB/s eta 0:00:01\r\u001b[K     |██████████▌                     | 368 kB 10.1 MB/s eta 0:00:01\r\u001b[K     |██████████▉                     | 378 kB 10.1 MB/s eta 0:00:01\r\u001b[K     |███████████                     | 389 kB 10.1 MB/s eta 0:00:01\r\u001b[K     |███████████▍                    | 399 kB 10.1 MB/s eta 0:00:01\r\u001b[K     |███████████▊                    | 409 kB 10.1 MB/s eta 0:00:01\r\u001b[K     |████████████                    | 419 kB 10.1 MB/s eta 0:00:01\r\u001b[K     |████████████▎                   | 430 kB 10.1 MB/s eta 0:00:01\r\u001b[K     |████████████▋                   | 440 kB 10.1 MB/s eta 0:00:01\r\u001b[K     |████████████▉                   | 450 kB 10.1 MB/s eta 0:00:01\r\u001b[K     |█████████████▏                  | 460 kB 10.1 MB/s eta 0:00:01\r\u001b[K     |█████████████▌                  | 471 kB 10.1 MB/s eta 0:00:01\r\u001b[K     |█████████████▊                  | 481 kB 10.1 MB/s eta 0:00:01\r\u001b[K     |██████████████                  | 491 kB 10.1 MB/s eta 0:00:01\r\u001b[K     |██████████████▎                 | 501 kB 10.1 MB/s eta 0:00:01\r\u001b[K     |██████████████▋                 | 512 kB 10.1 MB/s eta 0:00:01\r\u001b[K     |███████████████                 | 522 kB 10.1 MB/s eta 0:00:01\r\u001b[K     |███████████████▏                | 532 kB 10.1 MB/s eta 0:00:01\r\u001b[K     |███████████████▌                | 542 kB 10.1 MB/s eta 0:00:01\r\u001b[K     |███████████████▉                | 552 kB 10.1 MB/s eta 0:00:01\r\u001b[K     |████████████████                | 563 kB 10.1 MB/s eta 0:00:01\r\u001b[K     |████████████████▍               | 573 kB 10.1 MB/s eta 0:00:01\r\u001b[K     |████████████████▋               | 583 kB 10.1 MB/s eta 0:00:01\r\u001b[K     |█████████████████               | 593 kB 10.1 MB/s eta 0:00:01\r\u001b[K     |█████████████████▎              | 604 kB 10.1 MB/s eta 0:00:01\r\u001b[K     |█████████████████▌              | 614 kB 10.1 MB/s eta 0:00:01\r\u001b[K     |█████████████████▉              | 624 kB 10.1 MB/s eta 0:00:01\r\u001b[K     |██████████████████▏             | 634 kB 10.1 MB/s eta 0:00:01\r\u001b[K     |██████████████████▍             | 645 kB 10.1 MB/s eta 0:00:01\r\u001b[K     |██████████████████▊             | 655 kB 10.1 MB/s eta 0:00:01\r\u001b[K     |███████████████████             | 665 kB 10.1 MB/s eta 0:00:01\r\u001b[K     |███████████████████▎            | 675 kB 10.1 MB/s eta 0:00:01\r\u001b[K     |███████████████████▋            | 686 kB 10.1 MB/s eta 0:00:01\r\u001b[K     |███████████████████▉            | 696 kB 10.1 MB/s eta 0:00:01\r\u001b[K     |████████████████████▏           | 706 kB 10.1 MB/s eta 0:00:01\r\u001b[K     |████████████████████▌           | 716 kB 10.1 MB/s eta 0:00:01\r\u001b[K     |████████████████████▊           | 727 kB 10.1 MB/s eta 0:00:01\r\u001b[K     |█████████████████████           | 737 kB 10.1 MB/s eta 0:00:01\r\u001b[K     |█████████████████████▍          | 747 kB 10.1 MB/s eta 0:00:01\r\u001b[K     |█████████████████████▋          | 757 kB 10.1 MB/s eta 0:00:01\r\u001b[K     |██████████████████████          | 768 kB 10.1 MB/s eta 0:00:01\r\u001b[K     |██████████████████████▏         | 778 kB 10.1 MB/s eta 0:00:01\r\u001b[K     |██████████████████████▌         | 788 kB 10.1 MB/s eta 0:00:01\r\u001b[K     |██████████████████████▉         | 798 kB 10.1 MB/s eta 0:00:01\r\u001b[K     |███████████████████████         | 808 kB 10.1 MB/s eta 0:00:01\r\u001b[K     |███████████████████████▍        | 819 kB 10.1 MB/s eta 0:00:01\r\u001b[K     |███████████████████████▊        | 829 kB 10.1 MB/s eta 0:00:01\r\u001b[K     |████████████████████████        | 839 kB 10.1 MB/s eta 0:00:01\r\u001b[K     |████████████████████████▎       | 849 kB 10.1 MB/s eta 0:00:01\r\u001b[K     |████████████████████████▌       | 860 kB 10.1 MB/s eta 0:00:01\r\u001b[K     |████████████████████████▉       | 870 kB 10.1 MB/s eta 0:00:01\r\u001b[K     |█████████████████████████▏      | 880 kB 10.1 MB/s eta 0:00:01\r\u001b[K     |█████████████████████████▍      | 890 kB 10.1 MB/s eta 0:00:01\r\u001b[K     |█████████████████████████▊      | 901 kB 10.1 MB/s eta 0:00:01\r\u001b[K     |██████████████████████████      | 911 kB 10.1 MB/s eta 0:00:01\r\u001b[K     |██████████████████████████▎     | 921 kB 10.1 MB/s eta 0:00:01\r\u001b[K     |██████████████████████████▋     | 931 kB 10.1 MB/s eta 0:00:01\r\u001b[K     |███████████████████████████     | 942 kB 10.1 MB/s eta 0:00:01\r\u001b[K     |███████████████████████████▏    | 952 kB 10.1 MB/s eta 0:00:01\r\u001b[K     |███████████████████████████▌    | 962 kB 10.1 MB/s eta 0:00:01\r\u001b[K     |███████████████████████████▊    | 972 kB 10.1 MB/s eta 0:00:01\r\u001b[K     |████████████████████████████    | 983 kB 10.1 MB/s eta 0:00:01\r\u001b[K     |████████████████████████████▍   | 993 kB 10.1 MB/s eta 0:00:01\r\u001b[K     |████████████████████████████▋   | 1.0 MB 10.1 MB/s eta 0:00:01\r\u001b[K     |█████████████████████████████   | 1.0 MB 10.1 MB/s eta 0:00:01\r\u001b[K     |█████████████████████████████▎  | 1.0 MB 10.1 MB/s eta 0:00:01\r\u001b[K     |█████████████████████████████▌  | 1.0 MB 10.1 MB/s eta 0:00:01\r\u001b[K     |█████████████████████████████▉  | 1.0 MB 10.1 MB/s eta 0:00:01\r\u001b[K     |██████████████████████████████  | 1.1 MB 10.1 MB/s eta 0:00:01\r\u001b[K     |██████████████████████████████▍ | 1.1 MB 10.1 MB/s eta 0:00:01\r\u001b[K     |██████████████████████████████▊ | 1.1 MB 10.1 MB/s eta 0:00:01\r\u001b[K     |███████████████████████████████ | 1.1 MB 10.1 MB/s eta 0:00:01\r\u001b[K     |███████████████████████████████▎| 1.1 MB 10.1 MB/s eta 0:00:01\r\u001b[K     |███████████████████████████████▋| 1.1 MB 10.1 MB/s eta 0:00:01\r\u001b[K     |███████████████████████████████▉| 1.1 MB 10.1 MB/s eta 0:00:01\r\u001b[K     |████████████████████████████████| 1.1 MB 10.1 MB/s \n",
            "\u001b[?25hRequirement already satisfied: sortedcontainers>=1.5.7 in /usr/local/lib/python3.7/dist-packages (from scikit-multiflow) (2.4.0)\n",
            "Requirement already satisfied: pandas>=0.25.3 in /usr/local/lib/python3.7/dist-packages (from scikit-multiflow) (1.1.5)\n",
            "Requirement already satisfied: matplotlib>=2.0.0 in /usr/local/lib/python3.7/dist-packages (from scikit-multiflow) (3.2.2)\n",
            "Requirement already satisfied: scikit-learn>=0.20 in /usr/local/lib/python3.7/dist-packages (from scikit-multiflow) (0.22.2.post1)\n",
            "Requirement already satisfied: scipy>=1.0.0 in /usr/local/lib/python3.7/dist-packages (from scikit-multiflow) (1.4.1)\n",
            "Requirement already satisfied: numpy>=1.14.0 in /usr/local/lib/python3.7/dist-packages (from scikit-multiflow) (1.21.2)\n",
            "Requirement already satisfied: pyparsing!=2.0.4,!=2.1.2,!=2.1.6,>=2.0.1 in /usr/local/lib/python3.7/dist-packages (from matplotlib>=2.0.0->scikit-multiflow) (2.4.7)\n",
            "Requirement already satisfied: python-dateutil>=2.1 in /usr/local/lib/python3.7/dist-packages (from matplotlib>=2.0.0->scikit-multiflow) (2.8.2)\n",
            "Requirement already satisfied: kiwisolver>=1.0.1 in /usr/local/lib/python3.7/dist-packages (from matplotlib>=2.0.0->scikit-multiflow) (1.3.2)\n",
            "Requirement already satisfied: cycler>=0.10 in /usr/local/lib/python3.7/dist-packages (from matplotlib>=2.0.0->scikit-multiflow) (0.10.0)\n",
            "Requirement already satisfied: six in /usr/local/lib/python3.7/dist-packages (from cycler>=0.10->matplotlib>=2.0.0->scikit-multiflow) (1.15.0)\n",
            "Requirement already satisfied: pytz>=2017.2 in /usr/local/lib/python3.7/dist-packages (from pandas>=0.25.3->scikit-multiflow) (2018.9)\n",
            "Requirement already satisfied: joblib>=0.11 in /usr/local/lib/python3.7/dist-packages (from scikit-learn>=0.20->scikit-multiflow) (1.0.1)\n",
            "Installing collected packages: scikit-multiflow\n",
            "Successfully installed scikit-multiflow-0.5.3\n"
          ]
        }
      ]
    },
    {
      "cell_type": "code",
      "metadata": {
        "colab": {
          "base_uri": "https://localhost:8080/"
        },
        "id": "u1atpT8HDaDa",
        "outputId": "1f021e5c-2233-40f3-bcb7-1cb58b9ebf00"
      },
      "source": [
        "pip install pydotplus"
      ],
      "execution_count": 28,
      "outputs": [
        {
          "output_type": "stream",
          "name": "stdout",
          "text": [
            "Requirement already satisfied: pydotplus in /usr/local/lib/python3.7/dist-packages (2.0.2)\n",
            "Requirement already satisfied: pyparsing>=2.0.1 in /usr/local/lib/python3.7/dist-packages (from pydotplus) (2.4.7)\n"
          ]
        }
      ]
    },
    {
      "cell_type": "code",
      "metadata": {
        "id": "MajrS3jLDfG_"
      },
      "source": [
        "from skmultiflow.data import SEAGenerator"
      ],
      "execution_count": 29,
      "outputs": []
    },
    {
      "cell_type": "code",
      "metadata": {
        "id": "sYUCQx1sDkCq"
      },
      "source": [
        "from skmultiflow.trees import ExtremelyFastDecisionTreeClassifier"
      ],
      "execution_count": 30,
      "outputs": []
    },
    {
      "cell_type": "code",
      "metadata": {
        "id": "zUEl5yueDq0g"
      },
      "source": [
        "from skmultiflow.data import DataStream"
      ],
      "execution_count": 31,
      "outputs": []
    },
    {
      "cell_type": "code",
      "metadata": {
        "id": "sGWmiLsCDuri"
      },
      "source": [
        "import pandas as pd \n",
        "import numpy as np \n",
        "import pickle\n",
        "import time \n",
        "from sklearn.datasets import make_blobs \n",
        "from sklearn.model_selection import train_test_split \n",
        "from sklearn import tree \n",
        "from sklearn import datasets \n",
        "from sklearn.tree import DecisionTreeClassifier # Import Decision Tree Classifier \n",
        "from sklearn import metrics #Import scikit-learn metrics module for accuracy calculation\n",
        "from sklearn.metrics import roc_curve, roc_auc_score\n",
        "from sklearn.preprocessing import label_binarize\n",
        "from sklearn.multiclass import OneVsRestClassifier\n",
        "from sklearn.metrics import roc_curve, auc\n",
        "from sklearn import datasets\n",
        "from sklearn.metrics import classification_report"
      ],
      "execution_count": 32,
      "outputs": []
    },
    {
      "cell_type": "code",
      "metadata": {
        "id": "dWcW-SZ6DzAS"
      },
      "source": [
        "from matplotlib import pyplot as plt \n",
        "import seaborn as sns \n",
        "import pydotplus\n",
        "from sklearn.metrics import precision_score\n",
        "from sklearn.metrics import recall_score"
      ],
      "execution_count": 33,
      "outputs": []
    },
    {
      "cell_type": "code",
      "metadata": {
        "id": "TyUnuig9EMPz"
      },
      "source": [
        "\n",
        "data_1= pd.read_csv(\"/data_1.csv\")\n",
        "\n",
        "\n",
        "feature_cols =['baseline value', 'accelerations','fetal_movement','uterine_contractions','light_decelerations','severe_decelerations','prolongued_decelerations','abnormal_short_term_variability','mean_value_of_short_term_variability','percentage_of_time_with_abnormal_long_term_variability','mean_value_of_long_term_variability','histogram_width','histogram_min','histogram_max','histogram_number_of_peaks','histogram_number_of_zeroes','histogram_mode','histogram_mean','histogram_median','histogram_variance','histogram_tendency']\n",
        "\n",
        "X=data_1[feature_cols]\n",
        "y=data_1['fetal_health']\n",
        "\n",
        "X_train, X_test, y_train, y_test= train_test_split(X,y,test_size=0.2)"
      ],
      "execution_count": 49,
      "outputs": []
    },
    {
      "cell_type": "code",
      "metadata": {
        "id": "MwDkiSFPETPe"
      },
      "source": [
        "rows= X_train.shape[0]"
      ],
      "execution_count": 50,
      "outputs": []
    },
    {
      "cell_type": "code",
      "metadata": {
        "id": "txjtH75CEY6-"
      },
      "source": [
        "stream = DataStream(pd.DataFrame(X_train),pd.DataFrame( y_train))"
      ],
      "execution_count": 51,
      "outputs": []
    },
    {
      "cell_type": "code",
      "metadata": {
        "id": "0f8Xu9oPEcl-"
      },
      "source": [
        "efdt = ExtremelyFastDecisionTreeClassifier()"
      ],
      "execution_count": 52,
      "outputs": []
    },
    {
      "cell_type": "code",
      "metadata": {
        "id": "dG_O8JbbEfuJ"
      },
      "source": [
        "n_samples = 0\n",
        "correct_cnt = 0\n",
        "max_samples = rows"
      ],
      "execution_count": 53,
      "outputs": []
    },
    {
      "cell_type": "code",
      "metadata": {
        "id": "hiYZip7EEj-S"
      },
      "source": [
        "while n_samples < max_samples and stream.has_more_samples():\n",
        "    X, y = stream.next_sample()\n",
        "    y_pred = efdt.predict(X)\n",
        "    if y[0] == y_pred[0]:\n",
        "        correct_cnt += 1\n",
        "    efdt.partial_fit(X, y)\n",
        "    n_samples += 1"
      ],
      "execution_count": 54,
      "outputs": []
    },
    {
      "cell_type": "code",
      "metadata": {
        "colab": {
          "base_uri": "https://localhost:8080/"
        },
        "id": "86bX6cYNEn_d",
        "outputId": "c9fbfe4f-dadf-41dc-8b8f-9085cb85242a"
      },
      "source": [
        "print('{} samples analyzed.'.format(n_samples))\n",
        "print('Extremely Fast Decision Tree accuracy: {}'.format(correct_cnt / n_samples))"
      ],
      "execution_count": 55,
      "outputs": [
        {
          "output_type": "stream",
          "name": "stdout",
          "text": [
            "1160 samples analyzed.\n",
            "Extremely Fast Decision Tree accuracy: 0.8663793103448276\n"
          ]
        }
      ]
    },
    {
      "cell_type": "code",
      "metadata": {
        "colab": {
          "base_uri": "https://localhost:8080/",
          "height": 295
        },
        "id": "HB0NE2yhEvE0",
        "outputId": "10b30552-903a-4ba9-aab8-23de4ecaf64d"
      },
      "source": [
        "y_score = efdt.predict_proba(np.array(X_test))\n",
        "fpr = {}\n",
        "tpr = {}\n",
        "roc_auc = dict()\n",
        "\n",
        "    \n",
        "fpr[0], tpr[0], _ = roc_curve(y_test, y_score[:, 0], pos_label=1)\n",
        "roc_auc[0] = auc(fpr[0], tpr[0])\n",
        "\n",
        "fpr[1], tpr[1], _ = roc_curve(y_test, y_score[:, 1], pos_label=2)\n",
        "roc_auc[1] = auc(fpr[1], tpr[1])\n",
        "\n",
        "fpr[2], tpr[2], _ = roc_curve(y_test, y_score[:, 2], pos_label=3)\n",
        "roc_auc[2] = auc(fpr[2], tpr[2])\n",
        "\n",
        "plt.plot([0, 1], [0, 1], 'k--')\n",
        "plt.plot(fpr[0], tpr[0], color='blue', label='ROC Of Class 1')\n",
        "plt.plot(fpr[1], tpr[1], color='red', label='ROC Of Class 2')\n",
        "plt.plot(fpr[2], tpr[2], color='green', label='ROC Of Class 3')\n",
        "\n",
        "\n",
        "plt.xlim([-0.05, 1.0])\n",
        "plt.ylim([0.0, 1.05])\n",
        "plt.xlabel('False Positive Rate')\n",
        "plt.ylabel('True Positive Rate')\n",
        "plt.title('Receiver operating characteristic for multi-class data')\n",
        "plt.legend(loc=\"lower right\")\n",
        "plt.show()"
      ],
      "execution_count": 56,
      "outputs": [
        {
          "output_type": "display_data",
          "data": {
            "image/png": "[encoded data removed]",
            "text/plain": [
              "<Figure size 432x288 with 1 Axes>"
            ]
          },
          "metadata": {
            "needs_background": "light"
          }
        }
      ]
    },
    {
      "cell_type": "code",
      "metadata": {
        "id": "m5VfbngdExeW"
      },
      "source": [
        "data_2= pd.read_csv(\"/data_2.csv\")\n",
        "\n",
        "\n",
        "feature_cols =['baseline value', 'accelerations','fetal_movement','uterine_contractions','light_decelerations','severe_decelerations','prolongued_decelerations','abnormal_short_term_variability','mean_value_of_short_term_variability','percentage_of_time_with_abnormal_long_term_variability','mean_value_of_long_term_variability','histogram_width','histogram_min','histogram_max','histogram_number_of_peaks','histogram_number_of_zeroes','histogram_mode','histogram_mean','histogram_median','histogram_variance','histogram_tendency']\n",
        "\n",
        "X=data_2[feature_cols]\n",
        "y=data_2['fetal_health']\n",
        "\n",
        "X_train, X_test, y_train, y_test= train_test_split(X,y,test_size=0.2)"
      ],
      "execution_count": 57,
      "outputs": []
    },
    {
      "cell_type": "code",
      "metadata": {
        "id": "-e-JqdFmE664"
      },
      "source": [
        "rows= X_train.shape[0]"
      ],
      "execution_count": 58,
      "outputs": []
    },
    {
      "cell_type": "code",
      "metadata": {
        "id": "luMMXDFvFKFv"
      },
      "source": [
        "stream = DataStream(pd.DataFrame(X_train),pd.DataFrame( y_train))"
      ],
      "execution_count": 59,
      "outputs": []
    },
    {
      "cell_type": "code",
      "metadata": {
        "id": "1r8ybQ_6FRmF"
      },
      "source": [
        "n_samples = 0\n",
        "correct_cnt = 0\n",
        "max_samples = rows"
      ],
      "execution_count": 60,
      "outputs": []
    },
    {
      "cell_type": "code",
      "metadata": {
        "id": "c9bLkYhRFbNs"
      },
      "source": [
        "while n_samples < max_samples and stream.has_more_samples():\n",
        "    X, y = stream.next_sample()\n",
        "    y_pred = efdt.predict(X)\n",
        "    if y[0] == y_pred[0]:\n",
        "        correct_cnt += 1\n",
        "    efdt.partial_fit(X, y)\n",
        "    n_samples += 1"
      ],
      "execution_count": 61,
      "outputs": []
    },
    {
      "cell_type": "code",
      "metadata": {
        "colab": {
          "base_uri": "https://localhost:8080/"
        },
        "id": "3QB1kOsVFcAg",
        "outputId": "f5404c74-0c7d-4b33-8846-ca904ce6bab3"
      },
      "source": [
        "print('{} samples analyzed.'.format(n_samples))\n",
        "print('Extremely Fast Decision Tree accuracy: {}'.format(correct_cnt / n_samples))"
      ],
      "execution_count": 62,
      "outputs": [
        {
          "output_type": "stream",
          "name": "stdout",
          "text": [
            "540 samples analyzed.\n",
            "Extremely Fast Decision Tree accuracy: 0.7351851851851852\n"
          ]
        }
      ]
    },
    {
      "cell_type": "code",
      "metadata": {
        "colab": {
          "base_uri": "https://localhost:8080/",
          "height": 295
        },
        "id": "bOIe7t5AFrPE",
        "outputId": "7254a28b-4600-4683-e21b-94657979336d"
      },
      "source": [
        "y_score = efdt.predict_proba(np.array(X_test))\n",
        "fpr = {}\n",
        "tpr = {}\n",
        "roc_auc = dict()\n",
        "\n",
        "    \n",
        "fpr[0], tpr[0], _ = roc_curve(y_test, y_score[:, 0], pos_label=1)\n",
        "roc_auc[0] = auc(fpr[0], tpr[0])\n",
        "\n",
        "fpr[1], tpr[1], _ = roc_curve(y_test, y_score[:, 1], pos_label=2)\n",
        "roc_auc[1] = auc(fpr[1], tpr[1])\n",
        "\n",
        "fpr[2], tpr[2], _ = roc_curve(y_test, y_score[:, 2], pos_label=3)\n",
        "roc_auc[2] = auc(fpr[2], tpr[2])\n",
        "\n",
        "plt.plot([0, 1], [0, 1], 'k--')\n",
        "plt.plot(fpr[0], tpr[0], color='blue', label='ROC Of Class 1')\n",
        "plt.plot(fpr[1], tpr[1], color='red', label='ROC Of Class 2')\n",
        "plt.plot(fpr[2], tpr[2], color='green', label='ROC Of Class 3')\n",
        "\n",
        "\n",
        "plt.xlim([-0.05, 1.0])\n",
        "plt.ylim([0.0, 1.05])\n",
        "plt.xlabel('False Positive Rate')\n",
        "plt.ylabel('True Positive Rate')\n",
        "plt.title('Receiver operating characteristic for multi-class data')\n",
        "plt.legend(loc=\"lower right\")\n",
        "plt.show()"
      ],
      "execution_count": 63,
      "outputs": [
        {
          "output_type": "display_data",
          "data": {
            "image/png": "[encoded data removed]",
            "text/plain": [
              "<Figure size 432x288 with 1 Axes>"
            ]
          },
          "metadata": {
            "needs_background": "light"
          }
        }
      ]
    },
    {
      "cell_type": "code",
      "metadata": {
        "id": "F-s6V9O0AMQm"
      },
      "source": [
        "import pickle\n",
        "\n",
        "dbfile = open('DT-C-1', 'ab')\n",
        "      \n",
        "    # source, destination\n",
        "pickle.dump(efdt, dbfile)                     \n",
        "dbfile.close()"
      ],
      "execution_count": 64,
      "outputs": []
    }
  ]
}